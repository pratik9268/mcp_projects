{
 "cells": [
  {
   "cell_type": "code",
   "execution_count": 18,
   "id": "fef2fb99",
   "metadata": {},
   "outputs": [],
   "source": [
    "import sqlite3\n",
    "from dotenv import load_dotenv\n",
    "load_dotenv()\n",
    "from langchain_core.output_parsers import StrOutputParser\n",
    "from langchain_nvidia_ai_endpoints import ChatNVIDIA\n",
    "from langchain_core.prompts import PromptTemplate"
   ]
  },
  {
   "cell_type": "code",
   "execution_count": 3,
   "id": "0897a027",
   "metadata": {},
   "outputs": [
    {
     "name": "stdout",
     "output_type": "stream",
     "text": [
      "library.db initialized with 'library' table and sample data.\n"
     ]
    }
   ],
   "source": [
    "# init_library_db.py\n",
    "import sqlite3\n",
    "\n",
    "connection = sqlite3.connect(\"library.db\")\n",
    "cursor = connection.cursor()\n",
    "\n",
    "# Create the table\n",
    "cursor.execute(\"\"\"\n",
    "CREATE TABLE IF NOT EXISTS library (\n",
    "    id INTEGER PRIMARY KEY AUTOINCREMENT,\n",
    "    title TEXT NOT NULL,\n",
    "    author TEXT NOT NULL,\n",
    "    genre TEXT,\n",
    "    year_published INTEGER,\n",
    "    rating REAL,\n",
    "    available INTEGER\n",
    ")\n",
    "\"\"\")\n",
    "\n",
    "# Insert sample data\n",
    "sample_books = [\n",
    "    (\"The Great Gatsby\", \"F. Scott Fitzgerald\", \"Fiction\", 1925, 4.4, 1),\n",
    "    (\"1984\", \"George Orwell\", \"Dystopian\", 1949, 4.7, 1),\n",
    "    (\"To Kill a Mockingbird\", \"Harper Lee\", \"Fiction\", 1960, 4.8, 1)\n",
    "]\n",
    "\n",
    "cursor.executemany(\"\"\"\n",
    "INSERT INTO library (title, author, genre, year_published, rating, available)\n",
    "VALUES (?, ?, ?, ?, ?, ?)\n",
    "\"\"\", sample_books)\n",
    "\n",
    "connection.commit()\n",
    "connection.close()\n",
    "\n",
    "print(\"library.db initialized with 'library' table and sample data.\")\n"
   ]
  },
  {
   "cell_type": "code",
   "execution_count": 4,
   "id": "1326a279",
   "metadata": {},
   "outputs": [
    {
     "data": {
      "text/plain": [
       "\"INSERT INTO library (title, author, genre, year_published, rating, available) VALUES ('Harry Potter and the Philosophers Stone', 'J.K. Rowling', 'Fantasy', 1997, 4.2, 1);\""
      ]
     },
     "execution_count": 4,
     "metadata": {},
     "output_type": "execute_result"
    }
   ],
   "source": [
    "import sqlite3\n",
    "from langchain.prompts import PromptTemplate\n",
    "from langchain_nvidia_ai_endpoints import ChatNVIDIA\n",
    "from langchain_core.output_parsers import StrOutputParser\n",
    "\n",
    "i = input('nl: ')\n",
    "\n",
    "prompt = PromptTemplate(\n",
    "    input_variables=[\"nl_query\"],\n",
    "    template=\"\"\"\n",
    "You are an assistant that converts English to SQL.\n",
    "Assume the SQLite table \"library\" with columns:\n",
    "(id,title, author, genre, year_published, rating, available)\n",
    "\n",
    "Convert the following question to a SQL query ONLY (no explanation):\n",
    "Question: {nl_query}\n",
    "\"\"\"\n",
    ")\n",
    "\n",
    "llm = ChatNVIDIA()\n",
    "chain = prompt | llm | StrOutputParser()\n",
    "\n",
    "response = chain.invoke({\"nl_query\": i})\n",
    "sql_query = response.strip().split('\\n')[0]\n",
    "\n",
    "sql_query\n"
   ]
  },
  {
   "cell_type": "code",
   "execution_count": 5,
   "id": "80f061ff",
   "metadata": {},
   "outputs": [
    {
     "name": "stdout",
     "output_type": "stream",
     "text": [
      "(1, 'The Great Gatsby', 'F. Scott Fitzgerald', 'Fiction', 1925, 4.4, 1)\n",
      "(2, '1984', 'George Orwell', 'Dystopian', 1949, 4.7, 1)\n",
      "(3, 'To Kill a Mockingbird', 'Harper Lee', 'Fiction', 1960, 4.8, 1)\n",
      "(4, 'Harry Potter and the Philosophers Stone', 'J.K. Rowling', 'Fantasy', 1997, 4.2, 1)\n"
     ]
    }
   ],
   "source": [
    "connection = sqlite3.connect(\"library.db\")\n",
    "cursor = connection.cursor()\n",
    "\n",
    "try:\n",
    "    cursor.execute(sql_query)\n",
    "    cursor.execute(\"SELECT * FROM library\")\n",
    "    rows = cursor.fetchall()\n",
    "except sqlite3.OperationalError as e:\n",
    "    print(f\"SQL Error: {e}\")\n",
    "    print(f\"Problematic query: {sql_query}\")\n",
    "    rows = []\n",
    "\n",
    "connection.close()\n",
    "\n",
    "result = \"\\n\".join([str(row) for row in rows]) or \"No results found.\"\n",
    "print(result)"
   ]
  },
  {
   "cell_type": "code",
   "execution_count": 6,
   "id": "3453e78a",
   "metadata": {},
   "outputs": [
    {
     "name": "stdout",
     "output_type": "stream",
     "text": [
      "(1, 'The Great Gatsby', 'F. Scott Fitzgerald', 'Fiction', 1925, 4.4, 1)\n",
      "(2, '1984', 'George Orwell', 'Dystopian', 1949, 4.7, 1)\n",
      "(3, 'To Kill a Mockingbird', 'Harper Lee', 'Fiction', 1960, 4.8, 1)\n",
      "(4, 'Harry Potter and the Philosophers Stone', 'J.K. Rowling', 'Fantasy', 1997, 4.2, 1)\n"
     ]
    }
   ],
   "source": [
    "for row in rows:\n",
    "    print(row)"
   ]
  },
  {
   "cell_type": "code",
   "execution_count": 7,
   "id": "83a37382",
   "metadata": {},
   "outputs": [
    {
     "name": "stdout",
     "output_type": "stream",
     "text": [
      "(1, 'The Great Gatsby', 'F. Scott Fitzgerald', 'Fiction', 1925, 4.4, 1)\n",
      "(2, '1984', 'George Orwell', 'Dystopian', 1949, 4.7, 1)\n",
      "(3, 'To Kill a Mockingbird', 'Harper Lee', 'Fiction', 1960, 4.8, 1)\n"
     ]
    }
   ],
   "source": [
    "import sqlite3\n",
    "\n",
    "connection = sqlite3.connect(\"library.db\")\n",
    "cursor = connection.cursor()\n",
    "\n",
    "cursor.execute(\"SELECT * FROM library\")\n",
    "rows = cursor.fetchall()\n",
    "\n",
    "for row in rows:\n",
    "    print(row)\n",
    "\n",
    "connection.close()\n"
   ]
  },
  {
   "cell_type": "code",
   "execution_count": null,
   "id": "e68f2d37",
   "metadata": {},
   "outputs": [],
   "source": []
  }
 ],
 "metadata": {
  "kernelspec": {
   "display_name": "my_env",
   "language": "python",
   "name": "python3"
  },
  "language_info": {
   "codemirror_mode": {
    "name": "ipython",
    "version": 3
   },
   "file_extension": ".py",
   "mimetype": "text/x-python",
   "name": "python",
   "nbconvert_exporter": "python",
   "pygments_lexer": "ipython3",
   "version": "3.12.2"
  }
 },
 "nbformat": 4,
 "nbformat_minor": 5
}
