{
 "cells": [
  {
   "cell_type": "code",
   "execution_count": 8,
   "id": "b0bcc2f7",
   "metadata": {},
   "outputs": [],
   "source": [
    "from langchain_community.document_loaders import PyPDFLoader"
   ]
  },
  {
   "cell_type": "code",
   "execution_count": 23,
   "id": "8e9eda74",
   "metadata": {},
   "outputs": [
    {
     "name": "stdout",
     "output_type": "stream",
     "text": [
      "<class 'str'>\n"
     ]
    },
    {
     "data": {
      "text/plain": [
       "[Document(metadata={'producer': 'Microsoft® Word 2021', 'creator': 'Microsoft® Word 2021', 'creationdate': '2025-06-01T10:24:51+05:30', 'author': 'pratik01', 'moddate': '2025-06-01T10:24:51+05:30', 'source': 'pratik_resume.pdf', 'total_pages': 1, 'page': 0, 'page_label': '1'}, page_content='PRATIK PATEL  \\n \\n           +(91) 7862013610 | Gujarat, India \\n \\n              p r a t i k p a t e l 9 2 6 8 @ g m a i l . c o m  | LinkedIn | Github  \\n \\nEDUCATION  \\n \\n• A D Patel Institute of Technology, Charutar Vidya Mandal University                                                         2022 – present  \\n• B.Tech (Artificial Intelligence (AI) And Data Science)                                                                                                                                  Anand, Gujarat      \\n• CGPA (Till sem-6): 8.85 \\n \\nSKILLS  \\n \\n• Programming Languages: Python, C++, Java, SQL \\n• Web Technologies: HTML, CSS, JavaScript, Flask  \\n• AIML: Scikit-Learn, Data Science (Pandas, NumPy, Plotly, Streamlit, Dash etc) \\n• GenAI: LangChain, LangGraph  \\n• Version Control: Git  \\n \\nEXPERIENCE   \\nCorp8AI                                                                                                                         May ’25-Jun e’25 \\nGenAI D eveloper Intern                                                                                                    Ahmedabad , Gujarat  \\n• Work o n Lang Chain , LangGraph  and AI Agents.  \\n \\nPROJECTS  \\nBot Detection System     Nov’24 -Jan’25  \\n \\n• Developed an AI-powered bot detection system replacing CAPTCHA, enhancing user experience and  \\npreventing automated attacks. \\n• Built a scalable FastAPI/Flask-based solution with API key authentication and optimized a scikit -learn \\nmodel using behavioral features, achieving high detection accuracy with low false positives.  \\n \\nIndian Startup Dashboard    Jan’25 -Jan’25  \\n \\n• Developed an interactive Streamlit dashboard with Pandas and Plotly to visualize Indian startup \\ninsights, including funding trends, sector distributions, and regional ecosystems.  \\n• Collected and cleaned raw data, designed dynamic visualizations with filters, and optimized \\nperformance to support accurate, responsive, data -driven decision-making. \\n \\nZomato Restaurant Reviews Analyzer                                                                                                          (Ongoing) \\n \\n• Built a Selenium-based web scraping pipeline with URL validation to extract Zomato customer reviews \\nand implemented an NLP sentiment analysis model using scikit -learn (~80% accuracy). \\n• Currently developing aspect -based sentiment analysis (food, service, ambiance) and automated \\nreview summarization for concise, targeted insights.  \\n \\nACHIEVEMENTS  \\n \\n• Grand Finalist of CVMU Hackathon                                                                                                                                     2025 \\nProject (Bot Detection System – A Smarter Alternative to CAPTCHA) \\n \\n• Runner-up in Inter-College Badminton Tournament                                                                                                     2023 \\nPart of the College Badminton Team')]"
      ]
     },
     "execution_count": 23,
     "metadata": {},
     "output_type": "execute_result"
    }
   ],
   "source": [
    "pdf_path = 'pratik_resume.pdf'\n",
    "loader = PyPDFLoader(pdf_path)\n",
    "docs = loader.load()\n",
    "print(type(docs[0].page_content))\n",
    "docs"
   ]
  },
  {
   "cell_type": "code",
   "execution_count": 24,
   "id": "249558ab",
   "metadata": {},
   "outputs": [],
   "source": [
    "from langchain_nvidia_ai_endpoints import ChatNVIDIA\n",
    "from dotenv import load_dotenv"
   ]
  },
  {
   "cell_type": "code",
   "execution_count": null,
   "id": "5e1f8436",
   "metadata": {},
   "outputs": [],
   "source": [
    "load_dotenv()\n",
    "llm = ChatNVIDIA(model=\"meta/llama3-70b-instruct\")"
   ]
  },
  {
   "cell_type": "code",
   "execution_count": 26,
   "id": "f5e40bfd",
   "metadata": {},
   "outputs": [],
   "source": [
    "from langchain_core.prompts import PromptTemplate"
   ]
  },
  {
   "cell_type": "code",
   "execution_count": 48,
   "id": "85c65dad",
   "metadata": {},
   "outputs": [],
   "source": [
    "promt_template = PromptTemplate(\n",
    "    template= \"\"\"\n",
    "    you are a helpful assistant which provides feedback and improvements to user resume.\n",
    "    for that u you will get content of user's resume as {page_content}.\n",
    "    your response will be improvements and feedback to user regarding their resume.\n",
    "    In experinece section if address is added that will be the address of the company so note that point don't consider that address as candidate's.\n",
    "    also don't mix candidate home address detail with candidates education address details.\n",
    "    while providing the updated ressume based on suggestion and feedback do not change the fromat of resume. you can only suggest to change formate if you feel according to resume.\n",
    "\"\"\",\n",
    "\n",
    "input_variables=['page_content']\n",
    ")\n",
    "\n",
    "promt = promt_template.invoke({'page_content':docs[0].page_content})"
   ]
  },
  {
   "cell_type": "code",
   "execution_count": 44,
   "id": "9e664a1d",
   "metadata": {},
   "outputs": [],
   "source": [
    "response = llm.invoke(promt)"
   ]
  },
  {
   "cell_type": "code",
   "execution_count": 41,
   "id": "05b53abc",
   "metadata": {},
   "outputs": [
    {
     "name": "stdout",
     "output_type": "stream",
     "text": [
      "Thank you for sharing your resume, Pratik Patel. Here are some feedback and improvements to help enhance your resume:\n",
      "\n",
      "**Contact Information:**\n",
      "\n",
      "* You've provided a good set of contact information, including phone number, email, LinkedIn, and Github profiles. However, consider formatting them in a clean and concise manner, with a clear separation between each contact method.\n",
      "\n",
      "**Education:**\n",
      "\n",
      "* You've mentioned your current education details, but it would be better to format it in a standard format, like this:\n",
      "```\n",
      "Education:\n",
      "A D Patel Institute of Technology, Charutar Vidya Mandal University\n",
      "• Pursuing B.Tech in Artificial Intelligence (AI) And Data Science, Anand, Gujarat (2022 – present)\n",
      "• CGPA (Till sem-6): 8.85\n",
      "```\n",
      "* Consider adding any relevant academic achievements, projects, or coursework related to AI and Data Science.\n",
      "\n",
      "**Skills:**\n",
      "\n",
      "* You've listed a good range of technical skills. However, consider categorizing them into sections like Programming Languages, Web Development, Artificial Intelligence, and Version Control to make it easier to read.\n",
      "* You may also want to consider adding a proficiency level (e.g., beginner, intermediate, advanced) for each skill to give the reader an idea of your expertise.\n",
      "\n",
      "**Experience:**\n",
      "\n",
      "* You've mentioned your internship experience, but it would be better to format it in a standard format, like this:\n",
      "```\n",
      "Experience:\n",
      "Corp8AI, Ahmedabad, Gujarat\n",
      "GenAI Developer Intern (May '25 - Jun '25)\n",
      "• Worked on Lang Chain, LangGraph, and AI Agents.\n",
      "```\n",
      "* Note that I've removed the address from the experience section, as you mentioned it's the company's address, not yours.\n",
      "\n",
      "**Projects:**\n",
      "\n",
      "* You've listed three projects, which is great. However, consider formatting them in a consistent manner, with clear headings, bullet points, and concise descriptions.\n",
      "* For each project, try to highlight your role, achievements, and technical skills used.\n",
      "\n",
      "**Achievements:**\n",
      "\n",
      "* You've mentioned two achievements, which is great. However, consider formatting them in a consistent manner, with clear headings and concise descriptions.\n",
      "\n",
      "Some additional feedback:\n",
      "\n",
      "* Throughout your resume, there are some inconsistencies in formatting, spacing, and punctuation. Try to maintain a consistent style throughout.\n",
      "* Consider adding a summary or objective statement at the top of your resume to give the reader an idea of your career goals and relevant experience.\n",
      "* You may also want to consider adding any relevant certifications, awards, or publications related to AI and Data Science.\n",
      "\n",
      "Here's an updated version of your resume incorporating these feedback and improvements:\n",
      "\n",
      "```\n",
      "Pratik Patel\n",
      "\n",
      "Contact Information:\n",
      "Phone: +(91) 7862013610\n",
      "Email: [pratikpatel9268@gmail.com](mailto:pratikpatel9268@gmail.com)\n",
      "LinkedIn: [LinkedIn profile]\n",
      "Github: [Github profile]\n",
      "\n",
      "Education:\n",
      "A D Patel Institute of Technology, Charutar Vidya Mandal University\n",
      "• Pursuing B.Tech in Artificial Intelligence (AI) And Data Science, Anand, Gujarat (2022 – present)\n",
      "• CGPA (Till sem-6): 8.85\n",
      "\n",
      "Skills:\n",
      "\n",
      "Programming Languages:\n",
      "• Python\n",
      "• C++\n",
      "• Java\n",
      "• SQL\n",
      "\n",
      "Web Development:\n",
      "• HTML\n",
      "• CSS\n",
      "• JavaScript\n",
      "• Flask\n",
      "\n",
      "Artificial Intelligence:\n",
      "• Scikit-Learn\n",
      "• Data Science (Pandas, NumPy, Plotly, Streamlit, Dash etc)\n",
      "• LangChain\n",
      "• LangGraph\n",
      "\n",
      "Version Control:\n",
      "• Git\n",
      "\n",
      "Experience:\n",
      "Corp8AI, Ahmedabad, Gujarat\n",
      "GenAI Developer Intern (May '25 - Jun '25)\n",
      "• Worked on Lang Chain, LangGraph, and AI Agents.\n",
      "\n",
      "Projects:\n",
      "\n",
      "Bot Detection System (Nov'24 - Jan'25)\n",
      "• Developed an AI-powered bot detection system replacing CAPTCHA, enhancing user experience and preventing automated attacks.\n",
      "• Built a scalable FastAPI/Flask-based solution with API key authentication and optimized a scikit-learn model using behavioral features, achieving high detection accuracy with low false positives.\n",
      "\n",
      "Indian Startup Dashboard (Jan'25 - Jan'25)\n",
      "• Developed an interactive Streamlit dashboard with Pandas and Plotly to visualize Indian startup insights, including funding trends, sector distributions, and regional ecosystems.\n",
      "• Collected and cleaned raw data, designed dynamic visualizations with filters, and optimized performance to support accurate, responsive, data-driven decision-making.\n",
      "\n",
      "Zomato Restaurant Reviews Analyzer (Ongoing)\n",
      "• Built a Selenium-based web scraping pipeline with URL validation to extract Zomato customer reviews and implemented an NLP sentiment analysis model using scikit-learn (~80% accuracy).\n",
      "• Currently developing aspect-based sentiment analysis (food, service, ambiance) and automated review summarization for concise, targeted insights.\n",
      "\n",
      "Achievements:\n",
      "\n",
      "• Grand Finalist of CVMU Hackathon (2025)\n",
      "Project: Bot Detection System – A Smarter Alternative to CAPTCHA\n",
      "\n",
      "• Runner-up in Inter-College Badminton Tournament (2023)\n",
      "Part of the College Badm\n"
     ]
    }
   ],
   "source": [
    "print(response.content)"
   ]
  },
  {
   "cell_type": "code",
   "execution_count": 49,
   "id": "0a890022",
   "metadata": {},
   "outputs": [],
   "source": [
    "chain = promt_template | llm\n",
    "\n",
    "response = chain.invoke({\"page_content\":docs[0].page_content})"
   ]
  },
  {
   "cell_type": "code",
   "execution_count": 50,
   "id": "10c2b224",
   "metadata": {},
   "outputs": [
    {
     "name": "stdout",
     "output_type": "stream",
     "text": [
      "Thank you for sharing your resume, Pratik Patel! I've reviewed it carefully and provided feedback and suggestions to improve its overall quality and readability.\n",
      "\n",
      "**General Feedback:**\n",
      "\n",
      "Your resume is well-structured and easy to read, with a clear format and concise bullet points. However, there are some areas that can be improved to make it more effective.\n",
      "\n",
      "**Specific Feedback and Suggestions:**\n",
      "\n",
      "1. **Contact Information:**\n",
      "\t* Remove the spaces between your name and email address.\n",
      "\t* Consider adding a professional summary or objective statement to give a brief overview of your background and goals.\n",
      "2. **Education:**\n",
      "\t* Remove the university's location (Anand, Gujarat) and keep only the university's name.\n",
      "\t* You can remove the \"Till sem-6\" part, as your current CGPA is already mentioned.\n",
      "3. **Skills:**\n",
      "\t* Consider categorizing your skills into technical skills, programming languages, and tools to make it easier to read.\n",
      "\t* You can remove the \"etc.\" from the AIML skills list, as it's not necessary.\n",
      "4. **Experience:**\n",
      "\t* Remove the address from the Corp8AI experience section, as it's the company's address, not yours.\n",
      "\t* Consider adding more details about your responsibilities, achievements, and impact during your internship.\n",
      "5. **Projects:**\n",
      "\t* Use a consistent formatting style for project descriptions.\n",
      "\t* Consider adding more details about the technologies used, challenges faced, and results achieved for each project.\n",
      "6. **Achievements:**\n",
      "\t* Remove the year from the Grand Finalist of CVMU Hackathon achievement, as it's already mentioned in the project description.\n",
      "\t* You can remove the \"Part of the College Badminton Team\" part, as it's not necessary.\n",
      "\n",
      "**Updated Resume:**\n",
      "\n",
      "Here is your updated resume with the suggested changes:\n",
      "\n",
      "+(91) 7862013610 | Gujarat, India\n",
      "\n",
      "pratikpatel9268@gmail.com | LinkedIn | Github\n",
      "\n",
      "EDUCATION\n",
      "\n",
      "• A D Patel Institute of Technology, Charutar Vidya Mandal University                           2022 – present\n",
      "• B.Tech (Artificial Intelligence (AI) And Data Science)\n",
      "• CGPA: 8.85\n",
      "\n",
      "SKILLS\n",
      "\n",
      "• Programming Languages: Python, C++, Java, SQL\n",
      "• Web Technologies: HTML, CSS, JavaScript, Flask\n",
      "• AIML: Scikit-Learn, Data Science (Pandas, NumPy, Plotly)\n",
      "• GenAI: LangChain, LangGraph\n",
      "• Version Control: Git\n",
      "\n",
      "EXPERIENCE\n",
      "\n",
      "Corp8AI                                                                                                                 May ’25-Jun e’25\n",
      "GenAI Developer Intern\n",
      "• Worked on Lang Chain, LangGraph, and AI Agents.\n",
      "\n",
      "PROJECTS\n",
      "\n",
      "Bot Detection System     Nov’24 -Jan’25\n",
      "\n",
      "• Developed an AI-powered bot detection system replacing CAPTCHA, enhancing user experience and preventing automated attacks.\n",
      "• Built a scalable FastAPI/Flask-based solution with API key authentication and optimized a scikit-learn model using behavioral features, achieving high detection accuracy with low false positives.\n",
      "\n",
      "Indian Startup Dashboard    Jan’25 -Jan’25\n",
      "\n",
      "• Developed an interactive Streamlit dashboard with Pandas and Plotly to visualize Indian startup insights, including funding trends, sector distributions, and regional ecosystems.\n",
      "• Collected and cleaned raw data, designed dynamic visualizations with filters, and optimized performance to support accurate, responsive, data-driven decision-making.\n",
      "\n",
      "Zomato Restaurant Reviews Analyzer                                                                                                          (Ongoing)\n",
      "\n",
      "• Built a Selenium-based web scraping pipeline with URL validation to extract Zomato customer reviews and implemented an NLP sentiment analysis model using scikit-learn (~80% accuracy).\n",
      "• Currently developing aspect-based sentiment analysis (food, service, ambiance) and automated review summarization for concise, targeted insights.\n",
      "\n",
      "ACHIEVEMENTS\n",
      "\n",
      "• Grand Finalist of CVMU Hackathon\n",
      "Project (Bot Detection System – A Smarter Alternative to CAPTCHA)\n",
      "\n",
      "• Runner-up in Inter-College Badminton Tournament\n",
      "\n",
      "Remember, this is just a suggestion, and you can adjust the changes according to your preferences. Good luck with your job search!\n"
     ]
    }
   ],
   "source": [
    "print(response.content)"
   ]
  },
  {
   "cell_type": "code",
   "execution_count": null,
   "id": "41861a98",
   "metadata": {},
   "outputs": [],
   "source": []
  }
 ],
 "metadata": {
  "kernelspec": {
   "display_name": "my_env",
   "language": "python",
   "name": "python3"
  },
  "language_info": {
   "codemirror_mode": {
    "name": "ipython",
    "version": 3
   },
   "file_extension": ".py",
   "mimetype": "text/x-python",
   "name": "python",
   "nbconvert_exporter": "python",
   "pygments_lexer": "ipython3",
   "version": "3.12.2"
  }
 },
 "nbformat": 4,
 "nbformat_minor": 5
}
